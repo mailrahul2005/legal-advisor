{
 "cells": [
  {
   "cell_type": "code",
   "execution_count": null,
   "metadata": {},
   "outputs": [],
   "source": [
    "#Upgrade Setuptools if Needed\n",
    "!pip install --upgrade setuptools wheel\n",
    "\n",
    "#Install prerequisite packages\n",
    "!pip install python-dotenv==1.0.0\n",
    "\n",
    "!pip install llama-index==0.10.59\n",
    "!pip install llama-index-llms-openai==0.1.27\n",
    "!pip install llama-index-embeddings-openai==0.1.11\n",
    "!pip install llama-index-llms-azure-openai==0.1.10\n",
    "!pip install llama-index-embeddings-azure-openai==0.1.11\n"
   ]
  },
  {
   "cell_type": "code",
   "execution_count": 5,
   "metadata": {},
   "outputs": [],
   "source": [
    "\n",
    "#Setup Azure Open AI connection\n",
    "from llama_index.llms.azure_openai import AzureOpenAI\n",
    "from llama_index.embeddings.azure_openai import AzureOpenAIEmbedding\n",
    "\n",
    "from llama_index.core import Settings\n",
    "import os\n",
    "import nest_asyncio\n",
    "\n",
    "nest_asyncio.apply()\n",
    "\n",
    "#API info. Replace with your own keys and end points\n",
    "api_key = \"e638bb3ebcb84b79aa5b6f93d6e6503a\"\n",
    "azure_endpoint = \"https://agentic-ai-course-account.openai.azure.com/\"\n",
    "\n",
    "#api_key = \"provide your key\"\n",
    "#azure_endpoint = \"provide your end point\"\n",
    "api_version = \"2024-05-01-preview\" #Update version if required\n",
    "\n",
    "#Setup the LLM\n",
    "Settings.llm=AzureOpenAI(\n",
    "    model=\"gpt-35-turbo\",\n",
    "    deployment_name=\"agentai-gpt35\",\n",
    "    api_key=api_key,\n",
    "    azure_endpoint=azure_endpoint,\n",
    "    api_version=api_version,\n",
    ")\n",
    "\n",
    "#Setup the embedding model RAG\n",
    "Settings.embed_model= AzureOpenAIEmbedding(\n",
    "    model=\"text-embedding-ada-002\",\n",
    "    deployment_name=\"agentai-embedding\",\n",
    "    api_key=api_key,\n",
    "    azure_endpoint=azure_endpoint,\n",
    "    api_version=api_version,\n",
    ")\n",
    "\n"
   ]
  },
  {
   "cell_type": "code",
   "execution_count": 6,
   "metadata": {},
   "outputs": [],
   "source": [
    "#Create indexes for vector search\n",
    "from llama_index.core import SimpleDirectoryReader\n",
    "from llama_index.core.node_parser import SentenceSplitter\n",
    "from llama_index.core import  VectorStoreIndex\n",
    "\n",
    "splitter=SentenceSplitter(chunk_size=1024)\n",
    "\n",
    "#-------------------------------------------------------------------\n",
    "#Setup IPC document index\n",
    "#-------------------------------------------------------------------\n",
    "IPC_documents=SimpleDirectoryReader(\n",
    "    input_files=[\"NyaySanhita2023.pdf\"])\\\n",
    "            .load_data()\n",
    "#Read documents into nodes\n",
    "IPC_nodes=splitter.get_nodes_from_documents(IPC_documents)\n",
    "#Create a vector Store\n",
    "IPC_index=VectorStoreIndex(IPC_nodes)\n",
    "#Create a query engine\n",
    "IPC_query_engine = IPC_index.as_query_engine()\n",
    "\n",
    "\n",
    "\n"
   ]
  },
  {
   "cell_type": "code",
   "execution_count": 7,
   "metadata": {},
   "outputs": [],
   "source": [
    "from llama_index.core.tools import QueryEngineTool\n",
    "from llama_index.core.query_engine.router_query_engine import RouterQueryEngine\n",
    "from llama_index.core.selectors import LLMSingleSelector\n",
    "\n",
    "\n",
    "#Create a query engine Tool for NLP\n",
    "IPC_tool = QueryEngineTool.from_defaults(\n",
    "    query_engine=IPC_query_engine,\n",
    "    name=\"Indian Penal Code\",\n",
    "    description=(\n",
    "        \"Contains information the law and order in India and the probable punishments\"\n",
    "    ),\n",
    ")\n",
    "\n",
    "#Create a Router Agent. Provide the Tools to the Agent\n",
    "router_agent=RouterQueryEngine(\n",
    "    selector=LLMSingleSelector.from_defaults(),\n",
    "    query_engine_tools=[\n",
    "       IPC_tool,\n",
    "    ],\n",
    "    verbose=True\n",
    ")"
   ]
  },
  {
   "cell_type": "code",
   "execution_count": 8,
   "metadata": {},
   "outputs": [
    {
     "name": "stdout",
     "output_type": "stream",
     "text": [
      "\u001b[1;3;38;5;200mSelecting query engine 0: Choice 1 contains information about the law and order in India, which may include the probable punishments for crimes like murder..\n",
      "\u001b[0m\n",
      "Response:  The punishment for murder in India is death or imprisonment for life, along with a possible fine.\n"
     ]
    }
   ],
   "source": [
    "response = router_agent.query(\"What is the punishment for murder in India?\")\n",
    "print(\"\\nResponse: \",str(response))"
   ]
  },
  {
   "cell_type": "code",
   "execution_count": 9,
   "metadata": {},
   "outputs": [
    {
     "name": "stdout",
     "output_type": "stream",
     "text": [
      "\u001b[1;3;38;5;200mSelecting query engine 0: Choice 1 contains information about the law and order in India, which includes probable punishments. Therefore, it is the most relevant choice to answer the question about the punishment for attempt to murder in India..\n",
      "\u001b[0m\n",
      "Response:  The punishment for attempt to murder in India is imprisonment of either description for a term which may extend to ten years, and the offender may also be liable to a fine.\n"
     ]
    }
   ],
   "source": [
    "response = router_agent.query(\"What is the punishment for attempt to murder in India?\")\n",
    "print(\"\\nResponse: \",str(response))"
   ]
  },
  {
   "cell_type": "code",
   "execution_count": 10,
   "metadata": {},
   "outputs": [
    {
     "name": "stdout",
     "output_type": "stream",
     "text": [
      "\u001b[1;3;38;5;200mSelecting query engine 0: Choice 1 contains information about the law and order in India, which is relevant to understanding section 302 as per Indian laws..\n",
      "\u001b[0m\n",
      "Response:  Section 302 of the Indian Penal Code deals with the offense of murder. It states that whoever commits murder shall be punished with the death penalty or imprisonment for life, and shall also be liable to pay a fine.\n"
     ]
    }
   ],
   "source": [
    "response = router_agent.query(\"What is section 302 as per Indian laws?\")\n",
    "print(\"\\nResponse: \",str(response))"
   ]
  },
  {
   "cell_type": "code",
   "execution_count": 11,
   "metadata": {},
   "outputs": [
    {
     "name": "stdout",
     "output_type": "stream",
     "text": [
      "\u001b[1;3;38;5;200mSelecting query engine 0: Choice 1 contains information about the law and order in India, which would likely include information about the punishment for drunk driving..\n",
      "\u001b[0m\n",
      "Response:  The punishment for drunk driving in India may include a fine and/or imprisonment. The specific penalties may vary depending on the circumstances and the applicable laws in the country.\n"
     ]
    }
   ],
   "source": [
    "response = router_agent.query(\"What is punishment for drunk driving in India?\")\n",
    "print(\"\\nResponse: \",str(response))"
   ]
  }
 ],
 "metadata": {
  "kernelspec": {
   "display_name": "Python 3",
   "language": "python",
   "name": "python3"
  },
  "language_info": {
   "codemirror_mode": {
    "name": "ipython",
    "version": 3
   },
   "file_extension": ".py",
   "mimetype": "text/x-python",
   "name": "python",
   "nbconvert_exporter": "python",
   "pygments_lexer": "ipython3",
   "version": "3.10.9"
  }
 },
 "nbformat": 4,
 "nbformat_minor": 2
}
